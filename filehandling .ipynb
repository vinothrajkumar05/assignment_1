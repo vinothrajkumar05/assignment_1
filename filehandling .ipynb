{
  "nbformat": 4,
  "nbformat_minor": 0,
  "metadata": {
    "colab": {
      "name": "filehandling.ipynb",
      "provenance": [],
      "collapsed_sections": [],
      "authorship_tag": "ABX9TyPn8UC4xv6ojGab3QchOrRU",
      "include_colab_link": true
    },
    "kernelspec": {
      "name": "python3",
      "display_name": "Python 3"
    },
    "language_info": {
      "name": "python"
    }
  },
  "cells": [
    {
      "cell_type": "markdown",
      "metadata": {
        "id": "view-in-github",
        "colab_type": "text"
      },
      "source": [
        "<a href=\"https://colab.research.google.com/github/vinothrajkumar05/assignment_1/blob/main/filehandling%20.ipynb\" target=\"_parent\"><img src=\"https://colab.research.google.com/assets/colab-badge.svg\" alt=\"Open In Colab\"/></a>"
      ]
    },
    {
      "cell_type": "code",
      "execution_count": null,
      "metadata": {
        "id": "I_spzj9ZL57I"
      },
      "outputs": [],
      "source": [
        "file=open(\"demo.txt\",\"w\")\n",
        "file.write(\"vinothkumar is vvip\")\n",
        "file.write(\"vinothkumar is intelligent\\n\")\n",
        "file.close()"
      ]
    },
    {
      "cell_type": "code",
      "source": [
        "file1=open(\"mynewconten.txt\",\"w\")\n",
        "my_content=[\"this is first line\\n\",\"this is second line\\n\"]\n",
        "file1.writelines(my_content)"
      ],
      "metadata": {
        "id": "KR7vEEhWMFYW"
      },
      "execution_count": null,
      "outputs": []
    },
    {
      "cell_type": "code",
      "source": [
        "file2=open(\"demo.txt\")\n",
        "print(file2.read())"
      ],
      "metadata": {
        "colab": {
          "base_uri": "https://localhost:8080/"
        },
        "id": "VpyflQmBOZIw",
        "outputId": "57984f13-6c34-48b2-9eac-4b13a7efedb3"
      },
      "execution_count": null,
      "outputs": [
        {
          "output_type": "stream",
          "name": "stdout",
          "text": [
            "vinothkumar is vvipvinothkumar is intelligent\n",
            "\n"
          ]
        }
      ]
    },
    {
      "cell_type": "code",
      "source": [
        "file2=open(\"demo.txt\",\"r\")\n",
        "print(file2.writable())\n",
        "print(file2.readable())\n",
        "print(file2.mode)\n",
        "print(file2.read())\n",
        "file2.close()"
      ],
      "metadata": {
        "colab": {
          "base_uri": "https://localhost:8080/"
        },
        "id": "yUm_nJg8OlgH",
        "outputId": "3d1fae27-2786-4920-ec85-bf05bf259bb9"
      },
      "execution_count": null,
      "outputs": [
        {
          "output_type": "stream",
          "name": "stdout",
          "text": [
            "False\n",
            "True\n",
            "r\n",
            "vinothkumar is vvipvinothkumar is intelligent\n",
            "\n"
          ]
        }
      ]
    },
    {
      "cell_type": "code",
      "source": [
        "file1=open(\"mynewconten.txt\",\"w\")\n",
        "my_content=[\"this is first line\\n\",\"this is second line\\n\"]\n",
        "for each_line in my_content:\n",
        "  file1.write(each_line+\"\\n\")\n",
        "  file.close()"
      ],
      "metadata": {
        "id": "8MJwiP1GRrl_"
      },
      "execution_count": null,
      "outputs": []
    }
  ]
}